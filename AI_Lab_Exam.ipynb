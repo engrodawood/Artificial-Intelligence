{
  "nbformat": 4,
  "nbformat_minor": 0,
  "metadata": {
    "colab": {
      "name": "AI Lab Exam.ipynb",
      "provenance": [],
      "authorship_tag": "ABX9TyMj3Wl8fEw3rXAUSNpD5YTa",
      "include_colab_link": true
    },
    "kernelspec": {
      "name": "python3",
      "display_name": "Python 3"
    }
  },
  "cells": [
    {
      "cell_type": "markdown",
      "metadata": {
        "id": "view-in-github",
        "colab_type": "text"
      },
      "source": [
        "<a href=\"https://colab.research.google.com/github/engrodawood/Artificial-Intelligence/blob/master/AI_Lab_Exam.ipynb\" target=\"_parent\"><img src=\"https://colab.research.google.com/assets/colab-badge.svg\" alt=\"Open In Colab\"/></a>"
      ]
    },
    {
      "cell_type": "markdown",
      "metadata": {
        "id": "vIPhBFE95p6Z"
      },
      "source": [
        "<b>Instructions</b>\n",
        "Please write your name and registration number on your notebook along with your registered email id.\n",
        "Submit your notebook Viva Google classroom after task completion. "
      ]
    },
    {
      "cell_type": "markdown",
      "metadata": {
        "id": "eSP8L8h615Q-"
      },
      "source": [
        "<b>Q1)</b> bold text Write an efficent python programm for computing reverse of a string. You are not allowed to use any built in library. Also compute the count of each alphabet.  \n",
        "\n",
        "Input: ABBBAWEEE\n",
        "Outpu: EEEWABBBA"
      ]
    },
    {
      "cell_type": "code",
      "metadata": {
        "id": "Uo1XD86f1svQ"
      },
      "source": [
        "# write your code here. "
      ],
      "execution_count": null,
      "outputs": []
    },
    {
      "cell_type": "markdown",
      "metadata": {
        "id": "dplL4s7k2K1f"
      },
      "source": [
        "**Q2)** Imagine you are working as a data scientist in a software firm. The project manager assigned you the following task.\n",
        "\n",
        "\n",
        "1.   Write a python program than crawl all paper abstracts from this URL: https://www.aclweb.org/anthology/volumes/2020.acl-main/\n",
        "2.   Do the necessery text cleaning. \n",
        "3.   Compute top 10 most frequent words in those abtracts.\n",
        "4.   From the same URL write the Paper titles, List of authors and paper abstract, and Video URL to a CSV file using web crawling. \n",
        "\n",
        "**Note**\n",
        "Use Beautiful soup library just like the one you did in Lab assignment. \n",
        "\n",
        "\n",
        "\n",
        "\n",
        "\n"
      ]
    },
    {
      "cell_type": "code",
      "metadata": {
        "id": "zYMnW59T5bTR"
      },
      "source": [
        "# Write your code here. "
      ],
      "execution_count": null,
      "outputs": []
    }
  ]
}